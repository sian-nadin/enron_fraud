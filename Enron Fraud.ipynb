{
 "cells": [
  {
   "cell_type": "markdown",
   "metadata": {},
   "source": [
    "# Identifying Persons of Interest in the Enron Fraud\n",
    "\n",
    "In 2000, Enron was one of the largest companies in the United States. By 2002, it had collapsed into bankruptcy due to widespread corporate fraud. In the resulting Federal investigation, a significant amount of typically confidential information entered into the public record, including tens of thousands of emails and detailed financial data for top executives. \n",
    "\n",
    "This project will be used to build a person of interest identifier (POI) based on financial and email data made public as a result of the Enron scandal. To assist with this I will be using a hand-generated list of persons of interest in the fraud case, which includes individuals who were indicted, reached a settlement or plea deal with the government, or testified in exchange for prosecution immunity. "
   ]
  },
  {
   "cell_type": "markdown",
   "metadata": {},
   "source": [
    "The Enron email and financial data have been combined into a dictionary, where each key-value pair in the dictionary corresponds to one person. The dictionary key is the person's name, and the value is another dictionary, which contains the names of all the features and their values for that person. The features in the data fall into three major types, namely financial features, email features and POI labels."
   ]
  },
  {
   "cell_type": "code",
   "execution_count": 1,
   "metadata": {},
   "outputs": [],
   "source": [
    "import sys\n",
    "import pickle\n",
    "sys.path.append(\"/tools/\")\n",
    "\n",
    "import numpy as np\n",
    "import pandas as pd\n",
    "import seaborn as sns\n",
    "\n",
    "import matplotlib.pyplot as plt\n",
    "%matplotlib inline"
   ]
  },
  {
   "cell_type": "code",
   "execution_count": 2,
   "metadata": {},
   "outputs": [],
   "source": [
    "with open(\"final_project_dataset.pkl\", \"r\") as data_file:\n",
    "    enron_data = pickle.load(data_file)\n",
    "df = pd.DataFrame.from_dict(enron_data, orient='index')"
   ]
  },
  {
   "cell_type": "markdown",
   "metadata": {},
   "source": [
    "## Explore the data set\n",
    "We'll start off by briefly explore the data set to find out what type of values we're dealing with, if there's a lot of missing values etc. "
   ]
  },
  {
   "cell_type": "code",
   "execution_count": 3,
   "metadata": {},
   "outputs": [
    {
     "data": {
      "text/html": [
       "<div>\n",
       "<table border=\"1\" class=\"dataframe\">\n",
       "  <thead>\n",
       "    <tr style=\"text-align: right;\">\n",
       "      <th></th>\n",
       "      <th>salary</th>\n",
       "      <th>to_messages</th>\n",
       "      <th>deferral_payments</th>\n",
       "      <th>total_payments</th>\n",
       "      <th>exercised_stock_options</th>\n",
       "      <th>bonus</th>\n",
       "      <th>restricted_stock</th>\n",
       "      <th>shared_receipt_with_poi</th>\n",
       "      <th>restricted_stock_deferred</th>\n",
       "      <th>total_stock_value</th>\n",
       "      <th>...</th>\n",
       "      <th>loan_advances</th>\n",
       "      <th>from_messages</th>\n",
       "      <th>other</th>\n",
       "      <th>from_this_person_to_poi</th>\n",
       "      <th>poi</th>\n",
       "      <th>director_fees</th>\n",
       "      <th>deferred_income</th>\n",
       "      <th>long_term_incentive</th>\n",
       "      <th>email_address</th>\n",
       "      <th>from_poi_to_this_person</th>\n",
       "    </tr>\n",
       "  </thead>\n",
       "  <tbody>\n",
       "    <tr>\n",
       "      <th>ALLEN PHILLIP K</th>\n",
       "      <td>201955</td>\n",
       "      <td>2902</td>\n",
       "      <td>2869717</td>\n",
       "      <td>4484442</td>\n",
       "      <td>1729541</td>\n",
       "      <td>4175000</td>\n",
       "      <td>126027</td>\n",
       "      <td>1407</td>\n",
       "      <td>-126027</td>\n",
       "      <td>1729541</td>\n",
       "      <td>...</td>\n",
       "      <td>NaN</td>\n",
       "      <td>2195</td>\n",
       "      <td>152</td>\n",
       "      <td>65</td>\n",
       "      <td>False</td>\n",
       "      <td>NaN</td>\n",
       "      <td>-3081055</td>\n",
       "      <td>304805</td>\n",
       "      <td>phillip.allen@enron.com</td>\n",
       "      <td>47</td>\n",
       "    </tr>\n",
       "    <tr>\n",
       "      <th>BADUM JAMES P</th>\n",
       "      <td>NaN</td>\n",
       "      <td>NaN</td>\n",
       "      <td>178980</td>\n",
       "      <td>182466</td>\n",
       "      <td>257817</td>\n",
       "      <td>NaN</td>\n",
       "      <td>NaN</td>\n",
       "      <td>NaN</td>\n",
       "      <td>NaN</td>\n",
       "      <td>257817</td>\n",
       "      <td>...</td>\n",
       "      <td>NaN</td>\n",
       "      <td>NaN</td>\n",
       "      <td>NaN</td>\n",
       "      <td>NaN</td>\n",
       "      <td>False</td>\n",
       "      <td>NaN</td>\n",
       "      <td>NaN</td>\n",
       "      <td>NaN</td>\n",
       "      <td>NaN</td>\n",
       "      <td>NaN</td>\n",
       "    </tr>\n",
       "    <tr>\n",
       "      <th>BANNANTINE JAMES M</th>\n",
       "      <td>477</td>\n",
       "      <td>566</td>\n",
       "      <td>NaN</td>\n",
       "      <td>916197</td>\n",
       "      <td>4046157</td>\n",
       "      <td>NaN</td>\n",
       "      <td>1757552</td>\n",
       "      <td>465</td>\n",
       "      <td>-560222</td>\n",
       "      <td>5243487</td>\n",
       "      <td>...</td>\n",
       "      <td>NaN</td>\n",
       "      <td>29</td>\n",
       "      <td>864523</td>\n",
       "      <td>0</td>\n",
       "      <td>False</td>\n",
       "      <td>NaN</td>\n",
       "      <td>-5104</td>\n",
       "      <td>NaN</td>\n",
       "      <td>james.bannantine@enron.com</td>\n",
       "      <td>39</td>\n",
       "    </tr>\n",
       "    <tr>\n",
       "      <th>BAXTER JOHN C</th>\n",
       "      <td>267102</td>\n",
       "      <td>NaN</td>\n",
       "      <td>1295738</td>\n",
       "      <td>5634343</td>\n",
       "      <td>6680544</td>\n",
       "      <td>1200000</td>\n",
       "      <td>3942714</td>\n",
       "      <td>NaN</td>\n",
       "      <td>NaN</td>\n",
       "      <td>10623258</td>\n",
       "      <td>...</td>\n",
       "      <td>NaN</td>\n",
       "      <td>NaN</td>\n",
       "      <td>2660303</td>\n",
       "      <td>NaN</td>\n",
       "      <td>False</td>\n",
       "      <td>NaN</td>\n",
       "      <td>-1386055</td>\n",
       "      <td>1586055</td>\n",
       "      <td>NaN</td>\n",
       "      <td>NaN</td>\n",
       "    </tr>\n",
       "    <tr>\n",
       "      <th>BAY FRANKLIN R</th>\n",
       "      <td>239671</td>\n",
       "      <td>NaN</td>\n",
       "      <td>260455</td>\n",
       "      <td>827696</td>\n",
       "      <td>NaN</td>\n",
       "      <td>400000</td>\n",
       "      <td>145796</td>\n",
       "      <td>NaN</td>\n",
       "      <td>-82782</td>\n",
       "      <td>63014</td>\n",
       "      <td>...</td>\n",
       "      <td>NaN</td>\n",
       "      <td>NaN</td>\n",
       "      <td>69</td>\n",
       "      <td>NaN</td>\n",
       "      <td>False</td>\n",
       "      <td>NaN</td>\n",
       "      <td>-201641</td>\n",
       "      <td>NaN</td>\n",
       "      <td>frank.bay@enron.com</td>\n",
       "      <td>NaN</td>\n",
       "    </tr>\n",
       "  </tbody>\n",
       "</table>\n",
       "<p>5 rows × 21 columns</p>\n",
       "</div>"
      ],
      "text/plain": [
       "                    salary to_messages deferral_payments total_payments  \\\n",
       "ALLEN PHILLIP K     201955        2902           2869717        4484442   \n",
       "BADUM JAMES P          NaN         NaN            178980         182466   \n",
       "BANNANTINE JAMES M     477         566               NaN         916197   \n",
       "BAXTER JOHN C       267102         NaN           1295738        5634343   \n",
       "BAY FRANKLIN R      239671         NaN            260455         827696   \n",
       "\n",
       "                   exercised_stock_options    bonus restricted_stock  \\\n",
       "ALLEN PHILLIP K                    1729541  4175000           126027   \n",
       "BADUM JAMES P                       257817      NaN              NaN   \n",
       "BANNANTINE JAMES M                 4046157      NaN          1757552   \n",
       "BAXTER JOHN C                      6680544  1200000          3942714   \n",
       "BAY FRANKLIN R                         NaN   400000           145796   \n",
       "\n",
       "                   shared_receipt_with_poi restricted_stock_deferred  \\\n",
       "ALLEN PHILLIP K                       1407                   -126027   \n",
       "BADUM JAMES P                          NaN                       NaN   \n",
       "BANNANTINE JAMES M                     465                   -560222   \n",
       "BAXTER JOHN C                          NaN                       NaN   \n",
       "BAY FRANKLIN R                         NaN                    -82782   \n",
       "\n",
       "                   total_stock_value           ...           loan_advances  \\\n",
       "ALLEN PHILLIP K              1729541           ...                     NaN   \n",
       "BADUM JAMES P                 257817           ...                     NaN   \n",
       "BANNANTINE JAMES M           5243487           ...                     NaN   \n",
       "BAXTER JOHN C               10623258           ...                     NaN   \n",
       "BAY FRANKLIN R                 63014           ...                     NaN   \n",
       "\n",
       "                   from_messages    other from_this_person_to_poi    poi  \\\n",
       "ALLEN PHILLIP K             2195      152                      65  False   \n",
       "BADUM JAMES P                NaN      NaN                     NaN  False   \n",
       "BANNANTINE JAMES M            29   864523                       0  False   \n",
       "BAXTER JOHN C                NaN  2660303                     NaN  False   \n",
       "BAY FRANKLIN R               NaN       69                     NaN  False   \n",
       "\n",
       "                   director_fees deferred_income long_term_incentive  \\\n",
       "ALLEN PHILLIP K              NaN        -3081055              304805   \n",
       "BADUM JAMES P                NaN             NaN                 NaN   \n",
       "BANNANTINE JAMES M           NaN           -5104                 NaN   \n",
       "BAXTER JOHN C                NaN        -1386055             1586055   \n",
       "BAY FRANKLIN R               NaN         -201641                 NaN   \n",
       "\n",
       "                                 email_address from_poi_to_this_person  \n",
       "ALLEN PHILLIP K        phillip.allen@enron.com                      47  \n",
       "BADUM JAMES P                              NaN                     NaN  \n",
       "BANNANTINE JAMES M  james.bannantine@enron.com                      39  \n",
       "BAXTER JOHN C                              NaN                     NaN  \n",
       "BAY FRANKLIN R             frank.bay@enron.com                     NaN  \n",
       "\n",
       "[5 rows x 21 columns]"
      ]
     },
     "execution_count": 3,
     "metadata": {},
     "output_type": "execute_result"
    }
   ],
   "source": [
    "df.head()"
   ]
  },
  {
   "cell_type": "code",
   "execution_count": 4,
   "metadata": {},
   "outputs": [
    {
     "name": "stdout",
     "output_type": "stream",
     "text": [
      "Number of features: 21\n",
      "Total number of people: 146\n",
      "Number of POIs in data set: 18\n",
      "Number of POI in poi_names.txt: 35\n"
     ]
    }
   ],
   "source": [
    "print 'Number of features:', len(df.columns)\n",
    "print 'Total number of people:', df['poi'].count()\n",
    "print 'Number of POIs in data set:', df.loc[df.poi == True, 'poi'].count()\n",
    "\n",
    "count = 0\n",
    "with open('poi_names.txt', 'r') as f:\n",
    "    for line in f:\n",
    "        if '(y)' in line or '(n)' in line:\n",
    "            count += 1\n",
    "print \"Number of POI in poi_names.txt:\", count"
   ]
  },
  {
   "cell_type": "code",
   "execution_count": 5,
   "metadata": {},
   "outputs": [
    {
     "name": "stdout",
     "output_type": "stream",
     "text": [
      "The number of quantified salaries is: 95\n",
      "The total number of given email addresses is: 111\n",
      "The number of NaN payments is: 21\n"
     ]
    }
   ],
   "source": [
    "# How many people in this dataset have a quantified salary, known email address or NaN payments?\n",
    "\n",
    "print \"The number of quantified salaries is:\", (df['salary'] !='NaN').sum()\n",
    "print \"The total number of given email addresses is:\", (df['email_address'] !='NaN').sum()\n",
    "print \"The number of NaN payments is:\", (df['total_payments'] =='NaN').sum()"
   ]
  },
  {
   "cell_type": "markdown",
   "metadata": {},
   "source": [
    "The NaN's found in the financial data could be interpreted as 0. Looking at the insider pay document we can see that some employees have 0 listed for their bonus. Therefore I will replace the NaNs in the financial data with 0s. "
   ]
  },
  {
   "cell_type": "code",
   "execution_count": 6,
   "metadata": {},
   "outputs": [],
   "source": [
    "financial_features = ['salary', 'deferral_payments', 'total_payments', 'loan_advances', 'bonus', 'restricted_stock_deferred', 'deferred_income', 'total_stock_value', 'expenses', 'exercised_stock_options', 'other', 'long_term_incentive', 'restricted_stock', 'director_fees']\n",
    "df = df.replace('NaN', np.nan)\n",
    "df[financial_features] = df[financial_features].fillna(0)"
   ]
  },
  {
   "cell_type": "markdown",
   "metadata": {},
   "source": [
    "We will also neeed to fill in NaN for email features as well. I will fill in the missing values with the median of the columns."
   ]
  },
  {
   "cell_type": "code",
   "execution_count": 7,
   "metadata": {},
   "outputs": [],
   "source": [
    "email_features = ['to_messages', 'from_poi_to_this_person', 'from_messages', 'from_this_person_to_poi', 'shared_receipt_with_poi']\n",
    "df[email_features] = df[email_features].fillna(df[email_features].median())"
   ]
  },
  {
   "cell_type": "code",
   "execution_count": 8,
   "metadata": {},
   "outputs": [
    {
     "data": {
      "text/html": [
       "<div>\n",
       "<table border=\"1\" class=\"dataframe\">\n",
       "  <thead>\n",
       "    <tr style=\"text-align: right;\">\n",
       "      <th></th>\n",
       "      <th>salary</th>\n",
       "      <th>to_messages</th>\n",
       "      <th>deferral_payments</th>\n",
       "      <th>total_payments</th>\n",
       "      <th>exercised_stock_options</th>\n",
       "      <th>bonus</th>\n",
       "      <th>restricted_stock</th>\n",
       "      <th>shared_receipt_with_poi</th>\n",
       "      <th>restricted_stock_deferred</th>\n",
       "      <th>total_stock_value</th>\n",
       "      <th>...</th>\n",
       "      <th>loan_advances</th>\n",
       "      <th>from_messages</th>\n",
       "      <th>other</th>\n",
       "      <th>from_this_person_to_poi</th>\n",
       "      <th>poi</th>\n",
       "      <th>director_fees</th>\n",
       "      <th>deferred_income</th>\n",
       "      <th>long_term_incentive</th>\n",
       "      <th>email_address</th>\n",
       "      <th>from_poi_to_this_person</th>\n",
       "    </tr>\n",
       "  </thead>\n",
       "  <tbody>\n",
       "    <tr>\n",
       "      <th>ALLEN PHILLIP K</th>\n",
       "      <td>201955.0</td>\n",
       "      <td>2902.0</td>\n",
       "      <td>2869717.0</td>\n",
       "      <td>4484442.0</td>\n",
       "      <td>1729541.0</td>\n",
       "      <td>4175000.0</td>\n",
       "      <td>126027.0</td>\n",
       "      <td>1407.0</td>\n",
       "      <td>-126027.0</td>\n",
       "      <td>1729541.0</td>\n",
       "      <td>...</td>\n",
       "      <td>0.0</td>\n",
       "      <td>2195.0</td>\n",
       "      <td>152.0</td>\n",
       "      <td>65.0</td>\n",
       "      <td>False</td>\n",
       "      <td>0.0</td>\n",
       "      <td>-3081055.0</td>\n",
       "      <td>304805.0</td>\n",
       "      <td>phillip.allen@enron.com</td>\n",
       "      <td>47.0</td>\n",
       "    </tr>\n",
       "    <tr>\n",
       "      <th>BADUM JAMES P</th>\n",
       "      <td>0.0</td>\n",
       "      <td>1211.0</td>\n",
       "      <td>178980.0</td>\n",
       "      <td>182466.0</td>\n",
       "      <td>257817.0</td>\n",
       "      <td>0.0</td>\n",
       "      <td>0.0</td>\n",
       "      <td>740.5</td>\n",
       "      <td>0.0</td>\n",
       "      <td>257817.0</td>\n",
       "      <td>...</td>\n",
       "      <td>0.0</td>\n",
       "      <td>41.0</td>\n",
       "      <td>0.0</td>\n",
       "      <td>8.0</td>\n",
       "      <td>False</td>\n",
       "      <td>0.0</td>\n",
       "      <td>0.0</td>\n",
       "      <td>0.0</td>\n",
       "      <td>NaN</td>\n",
       "      <td>35.0</td>\n",
       "    </tr>\n",
       "    <tr>\n",
       "      <th>BANNANTINE JAMES M</th>\n",
       "      <td>477.0</td>\n",
       "      <td>566.0</td>\n",
       "      <td>0.0</td>\n",
       "      <td>916197.0</td>\n",
       "      <td>4046157.0</td>\n",
       "      <td>0.0</td>\n",
       "      <td>1757552.0</td>\n",
       "      <td>465.0</td>\n",
       "      <td>-560222.0</td>\n",
       "      <td>5243487.0</td>\n",
       "      <td>...</td>\n",
       "      <td>0.0</td>\n",
       "      <td>29.0</td>\n",
       "      <td>864523.0</td>\n",
       "      <td>0.0</td>\n",
       "      <td>False</td>\n",
       "      <td>0.0</td>\n",
       "      <td>-5104.0</td>\n",
       "      <td>0.0</td>\n",
       "      <td>james.bannantine@enron.com</td>\n",
       "      <td>39.0</td>\n",
       "    </tr>\n",
       "    <tr>\n",
       "      <th>BAXTER JOHN C</th>\n",
       "      <td>267102.0</td>\n",
       "      <td>1211.0</td>\n",
       "      <td>1295738.0</td>\n",
       "      <td>5634343.0</td>\n",
       "      <td>6680544.0</td>\n",
       "      <td>1200000.0</td>\n",
       "      <td>3942714.0</td>\n",
       "      <td>740.5</td>\n",
       "      <td>0.0</td>\n",
       "      <td>10623258.0</td>\n",
       "      <td>...</td>\n",
       "      <td>0.0</td>\n",
       "      <td>41.0</td>\n",
       "      <td>2660303.0</td>\n",
       "      <td>8.0</td>\n",
       "      <td>False</td>\n",
       "      <td>0.0</td>\n",
       "      <td>-1386055.0</td>\n",
       "      <td>1586055.0</td>\n",
       "      <td>NaN</td>\n",
       "      <td>35.0</td>\n",
       "    </tr>\n",
       "    <tr>\n",
       "      <th>BAY FRANKLIN R</th>\n",
       "      <td>239671.0</td>\n",
       "      <td>1211.0</td>\n",
       "      <td>260455.0</td>\n",
       "      <td>827696.0</td>\n",
       "      <td>0.0</td>\n",
       "      <td>400000.0</td>\n",
       "      <td>145796.0</td>\n",
       "      <td>740.5</td>\n",
       "      <td>-82782.0</td>\n",
       "      <td>63014.0</td>\n",
       "      <td>...</td>\n",
       "      <td>0.0</td>\n",
       "      <td>41.0</td>\n",
       "      <td>69.0</td>\n",
       "      <td>8.0</td>\n",
       "      <td>False</td>\n",
       "      <td>0.0</td>\n",
       "      <td>-201641.0</td>\n",
       "      <td>0.0</td>\n",
       "      <td>frank.bay@enron.com</td>\n",
       "      <td>35.0</td>\n",
       "    </tr>\n",
       "  </tbody>\n",
       "</table>\n",
       "<p>5 rows × 21 columns</p>\n",
       "</div>"
      ],
      "text/plain": [
       "                      salary  to_messages  deferral_payments  total_payments  \\\n",
       "ALLEN PHILLIP K     201955.0       2902.0          2869717.0       4484442.0   \n",
       "BADUM JAMES P            0.0       1211.0           178980.0        182466.0   \n",
       "BANNANTINE JAMES M     477.0        566.0                0.0        916197.0   \n",
       "BAXTER JOHN C       267102.0       1211.0          1295738.0       5634343.0   \n",
       "BAY FRANKLIN R      239671.0       1211.0           260455.0        827696.0   \n",
       "\n",
       "                    exercised_stock_options      bonus  restricted_stock  \\\n",
       "ALLEN PHILLIP K                   1729541.0  4175000.0          126027.0   \n",
       "BADUM JAMES P                      257817.0        0.0               0.0   \n",
       "BANNANTINE JAMES M                4046157.0        0.0         1757552.0   \n",
       "BAXTER JOHN C                     6680544.0  1200000.0         3942714.0   \n",
       "BAY FRANKLIN R                          0.0   400000.0          145796.0   \n",
       "\n",
       "                    shared_receipt_with_poi  restricted_stock_deferred  \\\n",
       "ALLEN PHILLIP K                      1407.0                  -126027.0   \n",
       "BADUM JAMES P                         740.5                        0.0   \n",
       "BANNANTINE JAMES M                    465.0                  -560222.0   \n",
       "BAXTER JOHN C                         740.5                        0.0   \n",
       "BAY FRANKLIN R                        740.5                   -82782.0   \n",
       "\n",
       "                    total_stock_value           ...            loan_advances  \\\n",
       "ALLEN PHILLIP K             1729541.0           ...                      0.0   \n",
       "BADUM JAMES P                257817.0           ...                      0.0   \n",
       "BANNANTINE JAMES M          5243487.0           ...                      0.0   \n",
       "BAXTER JOHN C              10623258.0           ...                      0.0   \n",
       "BAY FRANKLIN R                63014.0           ...                      0.0   \n",
       "\n",
       "                    from_messages      other  from_this_person_to_poi    poi  \\\n",
       "ALLEN PHILLIP K            2195.0      152.0                     65.0  False   \n",
       "BADUM JAMES P                41.0        0.0                      8.0  False   \n",
       "BANNANTINE JAMES M           29.0   864523.0                      0.0  False   \n",
       "BAXTER JOHN C                41.0  2660303.0                      8.0  False   \n",
       "BAY FRANKLIN R               41.0       69.0                      8.0  False   \n",
       "\n",
       "                   director_fees  deferred_income  long_term_incentive  \\\n",
       "ALLEN PHILLIP K              0.0       -3081055.0             304805.0   \n",
       "BADUM JAMES P                0.0              0.0                  0.0   \n",
       "BANNANTINE JAMES M           0.0          -5104.0                  0.0   \n",
       "BAXTER JOHN C                0.0       -1386055.0            1586055.0   \n",
       "BAY FRANKLIN R               0.0        -201641.0                  0.0   \n",
       "\n",
       "                                 email_address from_poi_to_this_person  \n",
       "ALLEN PHILLIP K        phillip.allen@enron.com                    47.0  \n",
       "BADUM JAMES P                              NaN                    35.0  \n",
       "BANNANTINE JAMES M  james.bannantine@enron.com                    39.0  \n",
       "BAXTER JOHN C                              NaN                    35.0  \n",
       "BAY FRANKLIN R             frank.bay@enron.com                    35.0  \n",
       "\n",
       "[5 rows x 21 columns]"
      ]
     },
     "execution_count": 8,
     "metadata": {},
     "output_type": "execute_result"
    }
   ],
   "source": [
    "#Check to see NaN values have been replaced.\n",
    "df.head()"
   ]
  },
  {
   "cell_type": "markdown",
   "metadata": {},
   "source": [
    "## Outliers"
   ]
  },
  {
   "cell_type": "markdown",
   "metadata": {},
   "source": [
    "I'll examine the financial features to see if there are any outliers."
   ]
  },
  {
   "cell_type": "code",
   "execution_count": 9,
   "metadata": {},
   "outputs": [
    {
     "data": {
      "text/plain": [
       "<seaborn.axisgrid.FacetGrid at 0x1a09eac790>"
      ]
     },
     "execution_count": 9,
     "metadata": {},
     "output_type": "execute_result"
    },
    {
     "data": {
      "image/png": "[encoded data removed]",
      "text/plain": [
       "<matplotlib.figure.Figure at 0x1a09eac690>"
      ]
     },
     "metadata": {},
     "output_type": "display_data"
    }
   ],
   "source": [
    "sns.lmplot('total_payments', 'bonus', \n",
    "           data=df, \n",
    "           fit_reg=False, \n",
    "           hue='poi')"
   ]
  },
  {
   "cell_type": "markdown",
   "metadata": {},
   "source": [
    "There is an obvious outlier in the plot above. After comparing the data point to the salary documents it turns out that this point is the 'TOTAL' value of all the listed salries. Since this doesn't represent anyone in particular it will be manually removed. "
   ]
  },
  {
   "cell_type": "code",
   "execution_count": 10,
   "metadata": {},
   "outputs": [],
   "source": [
    "df = df.drop('TOTAL')"
   ]
  },
  {
   "cell_type": "markdown",
   "metadata": {},
   "source": [
    "After removing this point it looks like there are still some outliers. These other outliers are people with extremely high salaries/bonuses. Even though they look like outliers they are in fact accurate values, many of which correspond to POIs, so they won't be removed. "
   ]
  },
  {
   "cell_type": "markdown",
   "metadata": {},
   "source": [
    "##  Creating new features\n",
    "\n",
    "Two new features will be created: (i) fracion_msgs_to_poi and (ii) fracion_msgs_from_poi. These are the fractions of messages a person sends/receives to/from a POI. These two features are helpful as they measure the proportion of emails that are related to a POI. Someone who sends/receives a lot of emails to/from a POI is more likely to be a POI themselves."
   ]
  },
  {
   "cell_type": "code",
   "execution_count": 11,
   "metadata": {},
   "outputs": [],
   "source": [
    "df_new = df.copy()\n",
    "df_new['fracion_msgs_to_poi'] = df.from_this_person_to_poi / df.from_messages\n",
    "df_new['fracion_msgs_from_poi'] = df.from_poi_to_this_person / df.to_messages"
   ]
  },
  {
   "cell_type": "markdown",
   "metadata": {},
   "source": [
    "## Classifying the dataset"
   ]
  },
  {
   "cell_type": "markdown",
   "metadata": {},
   "source": [
    "We'll split the data set in to a training and testing set. Using StratifiedShuffleSplit returns stratified randomized folds. Since the data set we are dealing with is relatively small and unbalanced using StratifiedShuffleSplit to randomly split the dataset, and use the whole dataset for both buidling and assessing the model should lead to a more stable evaluation. "
   ]
  },
  {
   "cell_type": "code",
   "execution_count": 14,
   "metadata": {},
   "outputs": [],
   "source": [
    "data = df.drop(['poi', 'email_address'], axis=1)\n",
    "X = data.values\n",
    "y = df.poi"
   ]
  },
  {
   "cell_type": "code",
   "execution_count": 15,
   "metadata": {},
   "outputs": [
    {
     "name": "stdout",
     "output_type": "stream",
     "text": [
      "('TRAIN:', array([ 65,  74,  75,  76,  77,  78,  79,  80,  81,  82,  83,  84,  85,\n",
      "        86,  87,  88,  89,  90,  91,  92,  93,  94,  95,  96,  97,  98,\n",
      "        99, 100, 101, 102, 103, 104, 105, 106, 107, 108, 109, 110, 111,\n",
      "       112, 113, 114, 115, 116, 117, 118, 119, 120, 121, 122, 123, 124,\n",
      "       125, 126, 127, 128, 129, 130, 131, 132, 133, 134, 135, 136, 137,\n",
      "       138, 139, 140, 141, 142, 143, 144]), 'TEST:', array([ 0,  1,  2,  3,  4,  5,  6,  7,  8,  9, 10, 11, 12, 13, 14, 15, 16,\n",
      "       17, 18, 19, 20, 21, 22, 23, 24, 25, 26, 27, 28, 29, 30, 31, 32, 33,\n",
      "       34, 35, 36, 37, 38, 39, 40, 41, 42, 43, 44, 45, 46, 47, 48, 49, 50,\n",
      "       51, 52, 53, 54, 55, 56, 57, 58, 59, 60, 61, 62, 63, 64, 66, 67, 68,\n",
      "       69, 70, 71, 72, 73]))\n",
      "('TRAIN:', array([ 0,  1,  2,  3,  4,  5,  6,  7,  8,  9, 10, 11, 12, 13, 14, 15, 16,\n",
      "       17, 18, 19, 20, 21, 22, 23, 24, 25, 26, 27, 28, 29, 30, 31, 32, 33,\n",
      "       34, 35, 36, 37, 38, 39, 40, 41, 42, 43, 44, 45, 46, 47, 48, 49, 50,\n",
      "       51, 52, 53, 54, 55, 56, 57, 58, 59, 60, 61, 62, 63, 64, 66, 67, 68,\n",
      "       69, 70, 71, 72, 73]), 'TEST:', array([ 65,  74,  75,  76,  77,  78,  79,  80,  81,  82,  83,  84,  85,\n",
      "        86,  87,  88,  89,  90,  91,  92,  93,  94,  95,  96,  97,  98,\n",
      "        99, 100, 101, 102, 103, 104, 105, 106, 107, 108, 109, 110, 111,\n",
      "       112, 113, 114, 115, 116, 117, 118, 119, 120, 121, 122, 123, 124,\n",
      "       125, 126, 127, 128, 129, 130, 131, 132, 133, 134, 135, 136, 137,\n",
      "       138, 139, 140, 141, 142, 143, 144]))\n"
     ]
    }
   ],
   "source": [
    "# Generate the training and testing data\n",
    "from sklearn.model_selection import StratifiedKFold\n",
    "skf = StratifiedKFold(n_splits=2)\n",
    "skf.get_n_splits(X, y)\n",
    "\n",
    "StratifiedKFold(n_splits=2, random_state=None, shuffle=False)\n",
    "for train_index, test_index in skf.split(X, y):\n",
    "    #print(\"TRAIN:\", train_index, \"TEST:\", test_index)\n",
    "    X_train, X_test = X[train_index], X[test_index]\n",
    "    y_train, y_test = y[train_index], y[test_index]"
   ]
  },
  {
   "cell_type": "markdown",
   "metadata": {},
   "source": [
    "## Feature reduction"
   ]
  },
  {
   "cell_type": "markdown",
   "metadata": {},
   "source": [
    "The aim of feature reduction is to select the best number of top features or reduce dimension of features.\n",
    "\n",
    "PCA (Principal Component Analysis) uses linear algebra to transform the dataset into a compressed form. I will start off by chosing 2-3 dimensions for PCA.\n",
    "\n",
    "SelectPercentile "
   ]
  },
  {
   "cell_type": "code",
   "execution_count": 20,
   "metadata": {},
   "outputs": [],
   "source": [
    "from sklearn.decomposition import PCA\n",
    "\n",
    "pca = PCA(n_components=2)\n",
    "pca.fit(X_train)\n",
    "\n",
    "X_train_pca2 = pca.transform(X_train)\n",
    "X_test_pca2 = pca.transform(X_test)\n",
    "\n",
    "pca = PCA(n_components=5)\n",
    "pca.fit(X_train)\n",
    "\n",
    "X_train_pca5 = pca.transform(X_train)\n",
    "X_test_pca5 = pca.transform(X_test)"
   ]
  },
  {
   "cell_type": "code",
   "execution_count": 17,
   "metadata": {},
   "outputs": [],
   "source": [
    "from sklearn.feature_selection import SelectPercentile\n",
    "\n",
    "X_train_reduce30 = SelectPercentile(percentile=30).fit_transform(X_train, y_train)\n",
    "X_test_reduce30 = SelectPercentile(percentile=30).fit_transform(X_test, y_test)\n",
    "\n",
    "X_train_reduce10 = SelectPercentile().fit_transform(X_train, y_train)\n",
    "X_test_reduce10 = SelectPercentile().fit_transform(X_test, y_test)"
   ]
  },
  {
   "cell_type": "markdown",
   "metadata": {},
   "source": [
    "## Testing accuracy of various classifiers"
   ]
  },
  {
   "cell_type": "markdown",
   "metadata": {},
   "source": [
    "Four algorithms will be tested: AdaBoost, Naive Bayes, Decision tree classifier and Random Forest. For each algorithm, evaluation metrics including accuracy, precision, recall and f1 score will be calculated for a varying number of features from SelectKBest and PCA methods. \n",
    "\n",
    "Accuracy, precision, recall and f1 score are used as metrics to evaluate the model performance. \n",
    "* Accuracy: True Positive + True Negative / (True Positive + True Negative + False Positive + False Negative). Accuracy measures the percentage of correctly identified POIs and non-POIs from all of the predictions made. Accuracy is a good initial indicator but it can be misleading.\n",
    "* Precision: True Positive / (True Positive + False Positive). Precision measures how many of the items labeled as positive truely belong to the positive class.\n",
    "* Recall:  True Positive / (True Positive + False Negative). Recall measure out of all the items that are truely positive, how many were correctly classified as positive. \n",
    "* F1 score gives a harmonic mean of precision and recall."
   ]
  },
  {
   "cell_type": "code",
   "execution_count": 21,
   "metadata": {},
   "outputs": [
    {
     "data": {
      "text/html": [
       "<div>\n",
       "<table border=\"1\" class=\"dataframe\">\n",
       "  <thead>\n",
       "    <tr style=\"text-align: right;\">\n",
       "      <th></th>\n",
       "      <th>MeanAccuracy</th>\n",
       "      <th>Precision</th>\n",
       "      <th>Recall</th>\n",
       "      <th>F1Score</th>\n",
       "    </tr>\n",
       "  </thead>\n",
       "  <tbody>\n",
       "    <tr>\n",
       "      <th>AdaBoost Classifier</th>\n",
       "      <td>0.779444</td>\n",
       "      <td>0.222222</td>\n",
       "      <td>0.222222</td>\n",
       "      <td>0.222222</td>\n",
       "    </tr>\n",
       "    <tr>\n",
       "      <th>AdaBoost Classifier (10% of features)</th>\n",
       "      <td>0.779444</td>\n",
       "      <td>0.222222</td>\n",
       "      <td>0.222222</td>\n",
       "      <td>0.222222</td>\n",
       "    </tr>\n",
       "    <tr>\n",
       "      <th>AdaBoost Classifier (30% of features)</th>\n",
       "      <td>0.779444</td>\n",
       "      <td>0.222222</td>\n",
       "      <td>0.222222</td>\n",
       "      <td>0.222222</td>\n",
       "    </tr>\n",
       "    <tr>\n",
       "      <th>AdaBoost Classifier (PCA: 2 components)</th>\n",
       "      <td>0.779444</td>\n",
       "      <td>0.222222</td>\n",
       "      <td>0.222222</td>\n",
       "      <td>0.222222</td>\n",
       "    </tr>\n",
       "    <tr>\n",
       "      <th>AdaBoost Classifier (PCA: 5 components)</th>\n",
       "      <td>0.779444</td>\n",
       "      <td>0.222222</td>\n",
       "      <td>0.222222</td>\n",
       "      <td>0.222222</td>\n",
       "    </tr>\n",
       "    <tr>\n",
       "      <th>Decision Tree Classifier</th>\n",
       "      <td>0.835000</td>\n",
       "      <td>0.666667</td>\n",
       "      <td>0.555556</td>\n",
       "      <td>0.666667</td>\n",
       "    </tr>\n",
       "    <tr>\n",
       "      <th>Decision Tree Classifier (10% of features)</th>\n",
       "      <td>0.835000</td>\n",
       "      <td>0.666667</td>\n",
       "      <td>0.444444</td>\n",
       "      <td>0.666667</td>\n",
       "    </tr>\n",
       "    <tr>\n",
       "      <th>Decision Tree Classifier (30% of features)</th>\n",
       "      <td>0.835000</td>\n",
       "      <td>0.666667</td>\n",
       "      <td>0.666667</td>\n",
       "      <td>0.444444</td>\n",
       "    </tr>\n",
       "    <tr>\n",
       "      <th>Decision Tree Classifier (PCA: 2 components)</th>\n",
       "      <td>0.835000</td>\n",
       "      <td>0.666667</td>\n",
       "      <td>0.444444</td>\n",
       "      <td>0.444444</td>\n",
       "    </tr>\n",
       "    <tr>\n",
       "      <th>Decision Tree Classifier (PCA: 5 components)</th>\n",
       "      <td>0.835000</td>\n",
       "      <td>0.666667</td>\n",
       "      <td>0.444444</td>\n",
       "      <td>0.444444</td>\n",
       "    </tr>\n",
       "    <tr>\n",
       "      <th>Gaussian Naive Bayes</th>\n",
       "      <td>0.421667</td>\n",
       "      <td>0.777778</td>\n",
       "      <td>0.777778</td>\n",
       "      <td>0.777778</td>\n",
       "    </tr>\n",
       "    <tr>\n",
       "      <th>Gaussian Naive Bayes (10% of features)</th>\n",
       "      <td>0.421667</td>\n",
       "      <td>0.777778</td>\n",
       "      <td>0.777778</td>\n",
       "      <td>0.777778</td>\n",
       "    </tr>\n",
       "    <tr>\n",
       "      <th>Gaussian Naive Bayes (30% of features)</th>\n",
       "      <td>0.421667</td>\n",
       "      <td>0.777778</td>\n",
       "      <td>0.777778</td>\n",
       "      <td>0.777778</td>\n",
       "    </tr>\n",
       "    <tr>\n",
       "      <th>Gaussian Naive Bayes (PCA: 2 components)</th>\n",
       "      <td>0.421667</td>\n",
       "      <td>0.777778</td>\n",
       "      <td>0.777778</td>\n",
       "      <td>0.777778</td>\n",
       "    </tr>\n",
       "    <tr>\n",
       "      <th>Gaussian Naive Bayes (PCA: 5 components)</th>\n",
       "      <td>0.421667</td>\n",
       "      <td>0.777778</td>\n",
       "      <td>0.777778</td>\n",
       "      <td>0.777778</td>\n",
       "    </tr>\n",
       "    <tr>\n",
       "      <th>Random Forest Classifier</th>\n",
       "      <td>0.876667</td>\n",
       "      <td>0.000000</td>\n",
       "      <td>0.000000</td>\n",
       "      <td>0.111111</td>\n",
       "    </tr>\n",
       "    <tr>\n",
       "      <th>Random Forest Classifier (10% of features)</th>\n",
       "      <td>0.835000</td>\n",
       "      <td>0.111111</td>\n",
       "      <td>0.111111</td>\n",
       "      <td>0.111111</td>\n",
       "    </tr>\n",
       "    <tr>\n",
       "      <th>Random Forest Classifier (30% of features)</th>\n",
       "      <td>0.862222</td>\n",
       "      <td>0.333333</td>\n",
       "      <td>0.222222</td>\n",
       "      <td>0.111111</td>\n",
       "    </tr>\n",
       "    <tr>\n",
       "      <th>Random Forest Classifier (PCA: 2 components)</th>\n",
       "      <td>0.848889</td>\n",
       "      <td>0.000000</td>\n",
       "      <td>0.000000</td>\n",
       "      <td>0.111111</td>\n",
       "    </tr>\n",
       "    <tr>\n",
       "      <th>Random Forest Classifier (PCA: 5 components)</th>\n",
       "      <td>0.848889</td>\n",
       "      <td>0.000000</td>\n",
       "      <td>0.000000</td>\n",
       "      <td>0.222222</td>\n",
       "    </tr>\n",
       "  </tbody>\n",
       "</table>\n",
       "</div>"
      ],
      "text/plain": [
       "                                              MeanAccuracy  Precision  \\\n",
       "AdaBoost Classifier                               0.779444   0.222222   \n",
       "AdaBoost Classifier (10% of features)             0.779444   0.222222   \n",
       "AdaBoost Classifier (30% of features)             0.779444   0.222222   \n",
       "AdaBoost Classifier (PCA: 2 components)           0.779444   0.222222   \n",
       "AdaBoost Classifier (PCA: 5 components)           0.779444   0.222222   \n",
       "Decision Tree Classifier                          0.835000   0.666667   \n",
       "Decision Tree Classifier (10% of features)        0.835000   0.666667   \n",
       "Decision Tree Classifier (30% of features)        0.835000   0.666667   \n",
       "Decision Tree Classifier (PCA: 2 components)      0.835000   0.666667   \n",
       "Decision Tree Classifier (PCA: 5 components)      0.835000   0.666667   \n",
       "Gaussian Naive Bayes                              0.421667   0.777778   \n",
       "Gaussian Naive Bayes (10% of features)            0.421667   0.777778   \n",
       "Gaussian Naive Bayes (30% of features)            0.421667   0.777778   \n",
       "Gaussian Naive Bayes (PCA: 2 components)          0.421667   0.777778   \n",
       "Gaussian Naive Bayes (PCA: 5 components)          0.421667   0.777778   \n",
       "Random Forest Classifier                          0.876667   0.000000   \n",
       "Random Forest Classifier (10% of features)        0.835000   0.111111   \n",
       "Random Forest Classifier (30% of features)        0.862222   0.333333   \n",
       "Random Forest Classifier (PCA: 2 components)      0.848889   0.000000   \n",
       "Random Forest Classifier (PCA: 5 components)      0.848889   0.000000   \n",
       "\n",
       "                                                Recall   F1Score  \n",
       "AdaBoost Classifier                           0.222222  0.222222  \n",
       "AdaBoost Classifier (10% of features)         0.222222  0.222222  \n",
       "AdaBoost Classifier (30% of features)         0.222222  0.222222  \n",
       "AdaBoost Classifier (PCA: 2 components)       0.222222  0.222222  \n",
       "AdaBoost Classifier (PCA: 5 components)       0.222222  0.222222  \n",
       "Decision Tree Classifier                      0.555556  0.666667  \n",
       "Decision Tree Classifier (10% of features)    0.444444  0.666667  \n",
       "Decision Tree Classifier (30% of features)    0.666667  0.444444  \n",
       "Decision Tree Classifier (PCA: 2 components)  0.444444  0.444444  \n",
       "Decision Tree Classifier (PCA: 5 components)  0.444444  0.444444  \n",
       "Gaussian Naive Bayes                          0.777778  0.777778  \n",
       "Gaussian Naive Bayes (10% of features)        0.777778  0.777778  \n",
       "Gaussian Naive Bayes (30% of features)        0.777778  0.777778  \n",
       "Gaussian Naive Bayes (PCA: 2 components)      0.777778  0.777778  \n",
       "Gaussian Naive Bayes (PCA: 5 components)      0.777778  0.777778  \n",
       "Random Forest Classifier                      0.000000  0.111111  \n",
       "Random Forest Classifier (10% of features)    0.111111  0.111111  \n",
       "Random Forest Classifier (30% of features)    0.222222  0.111111  \n",
       "Random Forest Classifier (PCA: 2 components)  0.000000  0.111111  \n",
       "Random Forest Classifier (PCA: 5 components)  0.000000  0.222222  "
      ]
     },
     "execution_count": 21,
     "metadata": {},
     "output_type": "execute_result"
    }
   ],
   "source": [
    "from sklearn import tree\n",
    "from sklearn.ensemble import RandomForestClassifier, AdaBoostClassifier\n",
    "from sklearn.naive_bayes import GaussianNB\n",
    "\n",
    "from sklearn.cross_validation import cross_val_score, cross_val_predict\n",
    "from sklearn.metrics import make_scorer, accuracy_score, precision_score, recall_score, f1_score\n",
    "from time import time\n",
    "\n",
    "import warnings\n",
    "\n",
    "models = {\"AdaBoost Classifier\": AdaBoostClassifier(), \"Gaussian Naive Bayes\": GaussianNB(), \n",
    "          \"Decision Tree Classifier\": tree.DecisionTreeClassifier(), \"Random Forest Classifier\": RandomForestClassifier()} \n",
    "          \n",
    "\n",
    "data = {\"\": X_train, \"(30% of features)\": X_train_reduce30, \"(10% of features)\": X_train_reduce10,\n",
    "       \"(PCA: 2 components)\": X_train_pca2, \"(PCA: 5 components)\": X_train_pca5}\n",
    "\n",
    "res = {}\n",
    "\n",
    "with warnings.catch_warnings():\n",
    "    warnings.simplefilter(\"ignore\")\n",
    "    \n",
    "    for name, model in models.items():\n",
    "        for scale, X in data.items():\n",
    "            n = name + \" \" + scale\n",
    "            clf = model\n",
    "            accuracy = cross_val_score(clf, X_train, y_train).mean()\n",
    "    \n",
    "            y_pred = cross_val_predict(clf, X_train, y_train)\n",
    "\n",
    "            rec = cross_val_score(clf, X_train, y_train, scoring=make_scorer(recall_score)).mean()\n",
    "            prec = cross_val_score(clf, X_train, y_train, scoring=make_scorer(recall_score)).mean()\n",
    "            f1 = cross_val_score(clf, X_train, y_train, scoring=make_scorer(recall_score)).mean()\n",
    "\n",
    "\n",
    "            res[n] = {\"MeanAccuracy\": accuracy, \"Precision\": prec, \"Recall\": rec, \"F1Score\": f1}\n",
    "\n",
    "results = pd.DataFrame.from_dict(res, orient=\"index\")\n",
    "results = results[[\"MeanAccuracy\", \"Precision\", \"Recall\", \"F1Score\"]]\n",
    "\n",
    "results"
   ]
  },
  {
   "cell_type": "markdown",
   "metadata": {},
   "source": [
    "A quick note on accuracy: as shown above, accuracy can be a misleading metric. Take a look at the Random Forest Classifier ithout any parameter tuning. It has a relatively high accuracy score of 0.876, but it scored a 0 in both precision and recall! This model is doing nothing but reflecting the distribution of our underlying classes. If we hadn't taken precision and recall into account, we could have missed that. I think that the unbalanced classes could be contributing to the underwhelming initial performance, so parameter tuning will take on an added performance here.\n",
    "\n",
    "Our best performing classifier in terms of recall was the Gaussian Naive Bayes classifier. With a recall of 77%, this classifier correctly flagged more than half of the POIs in our data. That classifier also had the highest F1 score (the harmonic mean of precision and recall).\n",
    "\n",
    "Now let's do some parameter tuning, in the hopes that some penalty and class weight parameters might be able to bring up the recall of some other models in a meaningful way."
   ]
  },
  {
   "cell_type": "markdown",
   "metadata": {},
   "source": [
    "## Parameter tuning"
   ]
  },
  {
   "cell_type": "markdown",
   "metadata": {},
   "source": [
    "***** What does it mean to tune the parameters of an algorithm, and what can happen if you don’t do this well?  How did you tune the parameters of your particular algorithm? What parameters did you tune? *****\n",
    "\n",
    "Parameter tuning searches for optimized parameters for a given algorithm. It is an important step because even if a well suited algorithm is used without the correct paarmeters it can perform poorly. In order to acheive the best possible results we can use GridSerchCV to search for the best parameters to use for a given algorithm. "
   ]
  },
  {
   "cell_type": "code",
   "execution_count": 19,
   "metadata": {},
   "outputs": [
    {
     "name": "stderr",
     "output_type": "stream",
     "text": [
      "/Users/Sian/anaconda/envs/DAND/lib/python2.7/site-packages/sklearn/grid_search.py:42: DeprecationWarning: This module was deprecated in version 0.18 in favor of the model_selection module into which all the refactored classes and functions are moved. This module will be removed in 0.20.\n",
      "  DeprecationWarning)\n"
     ]
    },
    {
     "data": {
      "text/plain": [
       "({'class_weight': {0: 2, 1: 1}, 'min_samples_split': 20}, 1.0)"
      ]
     },
     "execution_count": 19,
     "metadata": {},
     "output_type": "execute_result"
    }
   ],
   "source": [
    "from sklearn.grid_search import GridSearchCV\n",
    "\n",
    "default_recall = make_scorer(recall_score, pos_label=0)\n",
    "\n",
    "param_grid = {\"class_weight\": [\"balanced\", {0: 2, 1: 1}, {0: 5, 1: 1}, {0: 10, 1: 1}], \n",
    "              \"min_samples_split\": [2, 3, 5, 10, 20]}\n",
    "\n",
    "forest = RandomForestClassifier()\n",
    "clf = GridSearchCV(forest, param_grid=param_grid, scoring=default_recall)\n",
    "\n",
    "clf.fit(X_train, y_train)\n",
    "\n",
    "clf.best_params_, clf.best_score_ "
   ]
  },
  {
   "cell_type": "code",
   "execution_count": null,
   "metadata": {},
   "outputs": [],
   "source": []
  },
  {
   "cell_type": "markdown",
   "metadata": {},
   "source": [
    "## Evaluation metrics"
   ]
  },
  {
   "cell_type": "markdown",
   "metadata": {},
   "source": [
    "What is validation, and what’s a classic mistake you can make if you do it wrong? How did you validate your analysis? \n",
    "\n",
    "Give at least 2 evaluation metrics and your average performance for each of them.  Explain an interpretation of your metrics that says something human-understandable about your algorithm’s performance."
   ]
  },
  {
   "cell_type": "code",
   "execution_count": null,
   "metadata": {},
   "outputs": [],
   "source": []
  },
  {
   "cell_type": "code",
   "execution_count": null,
   "metadata": {},
   "outputs": [],
   "source": []
  },
  {
   "cell_type": "code",
   "execution_count": null,
   "metadata": {},
   "outputs": [],
   "source": []
  },
  {
   "cell_type": "markdown",
   "metadata": {},
   "source": [
    "## Questions\n",
    "\n",
    "\n",
    "**4. What does it mean to tune the parameters of an algorithm, and what can happen if you don’t do this well?**  \n",
    "\n",
    "**How did you tune the parameters of your particular algorithm? What parameters did you tune? (Some algorithms do not have parameters that you need to tune -- if this is the case for the one you picked, identify and briefly explain how you would have done it for the model that was not your final choice or a different model that does utilize parameter tuning, e.g. a decision tree classifier).**  \n",
    "\n",
    "\n",
    "**5. What is validation, and what’s a classic mistake you can make if you do it wrong? How did you validate your analysis?**\n",
    "\n",
    "**6. Give at least 2 evaluation metrics and your average performance for each of them.  Explain an interpretation of your metrics that says something human-understandable about your algorithm’s performance. **\n",
    "\n"
   ]
  },
  {
   "cell_type": "code",
   "execution_count": null,
   "metadata": {},
   "outputs": [],
   "source": []
  },
  {
   "cell_type": "code",
   "execution_count": null,
   "metadata": {},
   "outputs": [],
   "source": []
  },
  {
   "cell_type": "markdown",
   "metadata": {},
   "source": [
    "## Files included in this project:\n",
    "* **poi_id.py :** Code for the POI identifier.\n",
    "* **final_project_dataset.pkl :** The dataset for the project. \n",
    "* **tester.py :** Used to test the functionality of the poi_id.py file. \n",
    "* **emails_by_address :** This directory contains many text files, each of which contains all the messages to or from a particular email address. "
   ]
  }
 ],
 "metadata": {
  "kernelspec": {
   "display_name": "Python [conda env:DAND]",
   "language": "python",
   "name": "conda-env-DAND-py"
  },
  "language_info": {
   "codemirror_mode": {
    "name": "ipython",
    "version": 2
   },
   "file_extension": ".py",
   "mimetype": "text/x-python",
   "name": "python",
   "nbconvert_exporter": "python",
   "pygments_lexer": "ipython2",
   "version": "2.7.12"
  }
 },
 "nbformat": 4,
 "nbformat_minor": 2
}
